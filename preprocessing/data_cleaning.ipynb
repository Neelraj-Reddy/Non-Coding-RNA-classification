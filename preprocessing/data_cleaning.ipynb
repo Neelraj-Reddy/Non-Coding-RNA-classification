{
 "cells": [
  {
   "cell_type": "code",
   "execution_count": 3,
   "metadata": {},
   "outputs": [],
   "source": [
    "import csv\n",
    "\n",
    "# Read the contents of the input file\n",
    "with open(r'E:\\4th sem\\IOBS-2\\project\\Non Coding RNA classification\\pre_processed_data\\EIIP\\0-100.csv', 'r') as file:\n",
    "    input_data = file.read()\n",
    "\n",
    "input_data=input_data.split('\\n')"
   ]
  },
  {
   "cell_type": "code",
   "execution_count": 15,
   "metadata": {},
   "outputs": [],
   "source": [
    "y=[]\n",
    "eiip=[]"
   ]
  },
  {
   "cell_type": "code",
   "execution_count": 16,
   "metadata": {},
   "outputs": [],
   "source": [
    "for i in input_data:\n",
    "    if 'RNA' in i:\n",
    "        y.append(i)\n",
    "    elif 'Seq' not in i:\n",
    "        eiip.append([float(x) for x in i.split()])"
   ]
  },
  {
   "cell_type": "code",
   "execution_count": 23,
   "metadata": {},
   "outputs": [],
   "source": [
    "for i in eiip:\n",
    "    if len(i)<100:\n",
    "        for j in range(100-len(i)):\n",
    "            i.append(0)"
   ]
  },
  {
   "cell_type": "code",
   "execution_count": 24,
   "metadata": {},
   "outputs": [
    {
     "data": {
      "text/plain": [
       "100"
      ]
     },
     "execution_count": 24,
     "metadata": {},
     "output_type": "execute_result"
    }
   ],
   "source": [
    "len(eiip[0])"
   ]
  },
  {
   "cell_type": "code",
   "execution_count": 26,
   "metadata": {},
   "outputs": [
    {
     "name": "stdout",
     "output_type": "stream",
     "text": [
      "eiip.csv saved successfully!\n"
     ]
    }
   ],
   "source": [
    "import csv\n",
    "\n",
    "# Open the CSV file in write mode\n",
    "with open('eiip.csv', 'w', newline='') as csvfile:\n",
    "  writer = csv.writer(csvfile)\n",
    "\n",
    "  # Write each sublist (inner list) of eiip as a row in the CSV\n",
    "  for row in eiip:\n",
    "    writer.writerow(row)\n",
    "\n",
    "print(\"eiip.csv saved successfully!\")\n"
   ]
  },
  {
   "cell_type": "code",
   "execution_count": 32,
   "metadata": {},
   "outputs": [],
   "source": [
    "for i in range(len(y)):\n",
    "    y[i]=(y[i].split())[-1]"
   ]
  },
  {
   "cell_type": "code",
   "execution_count": 38,
   "metadata": {},
   "outputs": [
    {
     "name": "stdout",
     "output_type": "stream",
     "text": [
      "data.csv saved successfully!\n"
     ]
    }
   ],
   "source": [
    "# Open the CSV file in write mode\n",
    "with open('eiip_names.csv', 'w', newline='') as csvfile:\n",
    "  writer = csv.writer(csvfile)\n",
    "\n",
    "  # Write each element of the list as a separate row in the CSV\n",
    "  for item in y:\n",
    "    writer.writerow([item])\n",
    "\n",
    "print(\"data.csv saved successfully!\")"
   ]
  },
  {
   "cell_type": "code",
   "execution_count": 39,
   "metadata": {},
   "outputs": [
    {
     "name": "stdout",
     "output_type": "stream",
     "text": [
      "1452 1453\n"
     ]
    }
   ],
   "source": [
    "print(len(y),len(eiip))"
   ]
  }
 ],
 "metadata": {
  "kernelspec": {
   "display_name": "Python 3",
   "language": "python",
   "name": "python3"
  },
  "language_info": {
   "codemirror_mode": {
    "name": "ipython",
    "version": 3
   },
   "file_extension": ".py",
   "mimetype": "text/x-python",
   "name": "python",
   "nbconvert_exporter": "python",
   "pygments_lexer": "ipython3",
   "version": "3.10.0rc1"
  }
 },
 "nbformat": 4,
 "nbformat_minor": 2
}
