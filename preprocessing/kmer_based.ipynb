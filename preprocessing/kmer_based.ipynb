{
 "cells": [
  {
   "cell_type": "code",
   "execution_count": 11,
   "metadata": {},
   "outputs": [],
   "source": [
    "seq=\"AACTTTCAGCAATGGATTTTTAGGTACCCGGTTCGATGAAGATCGGAGCAAAATCCGAAAAGTAGTGTGAATTGCAGATTTCGCGAATCATCGAATTATCGAACGCATATTGCGCCCCACGGTATTCCGTGGAGCATGCCTGTTTGAGCGTCA\"\n",
    "seq1=\"AACTTTTAGCGATGGATGTCTCGGCTCAGGAAACGATGAAGGACGCAGCAAAATGCGATAAGCACTGCGAATGGCAGAATTTCGAGAATCAATAGAATGCTGAACGCATACTGCGCTTTATGGTCTTTCTGATCATAAAGCATGTCTGGTTCAGGGCGT\"\n",
    "seq2=\"GTCTAGGACCATACCACCCTGAATGCGCCCGATCTTGTCTGATCTCGGAAGCTAAGCAGGCTCGGGCCTGGTTAGCAAGTACTTGGATGGGAGGCAGAGCTGCCTTCAGTGGGTCAGCAGAAAATGTGTTTTGTGCA\""
   ]
  },
  {
   "cell_type": "code",
   "execution_count": 5,
   "metadata": {},
   "outputs": [],
   "source": [
    "def kmer_dict_calc(seq):\n",
    "    kmer_dict={}\n",
    "\n",
    "    for i in range(0,len(seq)-2):\n",
    "        if seq[i:i+3] not in kmer_dict:\n",
    "            kmer_dict[seq[i:i+3]]=1\n",
    "        else:\n",
    "            kmer_dict[seq[i:i+3]]+=1\n",
    "        \n",
    "    return kmer_dict"
   ]
  },
  {
   "cell_type": "code",
   "execution_count": 26,
   "metadata": {},
   "outputs": [],
   "source": [
    "s1=kmer_dict_calc(seq)\n",
    "s2=kmer_dict_calc(seq2)"
   ]
  },
  {
   "cell_type": "code",
   "execution_count": 15,
   "metadata": {},
   "outputs": [
    {
     "name": "stdout",
     "output_type": "stream",
     "text": [
      "Jaccard Similarity: 0.7419354838709677\n",
      "Cosine Similarity: 0.7805103183217367\n",
      "Overlap Coefficient: 0.9019607843137255\n",
      "Dice Similarity: 0.8518518518518519\n"
     ]
    }
   ],
   "source": [
    "def jaccard_similarity(dict1, dict2):\n",
    "    keys1 = set(dict1.keys())\n",
    "    keys2 = set(dict2.keys())\n",
    "    intersection = len(keys1.intersection(keys2))\n",
    "    union = len(keys1.union(keys2))\n",
    "    return intersection / union\n",
    "\n",
    "def cosine_similarity(dict1, dict2):\n",
    "    keys = set(dict1.keys()).union(dict2.keys())\n",
    "    dot_product = sum(dict1.get(k, 0) * dict2.get(k, 0) for k in keys)\n",
    "    magnitude1 = sum(val ** 2 for val in dict1.values()) ** 0.5\n",
    "    magnitude2 = sum(val ** 2 for val in dict2.values()) ** 0.5\n",
    "    return dot_product / (magnitude1 * magnitude2)\n",
    "\n",
    "def overlap_coefficient(dict1, dict2):\n",
    "    keys1 = set(dict1.keys())\n",
    "    keys2 = set(dict2.keys())\n",
    "    intersection = len(keys1.intersection(keys2))\n",
    "    return intersection / min(len(keys1), len(keys2))\n",
    "\n",
    "def dice_similarity(dict1, dict2):\n",
    "    keys1 = set(dict1.keys())\n",
    "    keys2 = set(dict2.keys())\n",
    "    intersection = len(keys1.intersection(keys2))\n",
    "    return 2 * intersection / (len(keys1) + len(keys2))\n",
    "\n",
    "# Example usage:\n",
    "dict1 = {'a': 1, 'b': 2, 'c': 3}\n",
    "dict2 = {'b': 2, 'c': 3, 'd': 4}\n",
    "print(\"Jaccard Similarity:\", jaccard_similarity(s1, s2))\n",
    "print(\"Cosine Similarity:\", cosine_similarity(s1, s2))\n",
    "print(\"Overlap Coefficient:\", overlap_coefficient(s1, s2))\n",
    "print(\"Dice Similarity:\", dice_similarity(s1, s2))\n"
   ]
  },
  {
   "cell_type": "code",
   "execution_count": 27,
   "metadata": {},
   "outputs": [
    {
     "name": "stdout",
     "output_type": "stream",
     "text": [
      "Cosine Similarity: 0.8063260813606377\n"
     ]
    }
   ],
   "source": [
    "from numpy import dot\n",
    "from numpy.linalg import norm\n",
    "\n",
    "def cosine_similarity(dict1, dict2):\n",
    "    keys_intersection = set(dict1.keys()) & set(dict2.keys())\n",
    "    \n",
    "    # Extract values for intersecting keys\n",
    "    vector1 = [dict1[key] for key in keys_intersection]\n",
    "    vector2 = [dict2[key] for key in keys_intersection]\n",
    "    \n",
    "    # Compute cosine similarity\n",
    "    similarity = dot(vector1, vector2) / (norm(vector1) * norm(vector2))\n",
    "    \n",
    "    return similarity\n",
    "\n",
    "\n",
    "\n",
    "similarity = cosine_similarity(s1, s2)\n",
    "print(\"Cosine Similarity:\", similarity)\n"
   ]
  }
 ],
 "metadata": {
  "kernelspec": {
   "display_name": "Python 3",
   "language": "python",
   "name": "python3"
  },
  "language_info": {
   "codemirror_mode": {
    "name": "ipython",
    "version": 3
   },
   "file_extension": ".py",
   "mimetype": "text/x-python",
   "name": "python",
   "nbconvert_exporter": "python",
   "pygments_lexer": "ipython3",
   "version": "3.10.0rc1"
  }
 },
 "nbformat": 4,
 "nbformat_minor": 2
}
