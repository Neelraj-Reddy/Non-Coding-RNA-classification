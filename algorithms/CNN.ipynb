{
 "cells": [
  {
   "cell_type": "code",
   "execution_count": 1,
   "metadata": {},
   "outputs": [
    {
     "name": "stdout",
     "output_type": "stream",
     "text": [
      "WARNING:tensorflow:From c:\\Users\\neelr\\AppData\\Local\\Programs\\Python\\Python310\\lib\\site-packages\\keras\\src\\losses.py:2976: The name tf.losses.sparse_softmax_cross_entropy is deprecated. Please use tf.compat.v1.losses.sparse_softmax_cross_entropy instead.\n",
      "\n"
     ]
    }
   ],
   "source": [
    "import numpy as np\n",
    "from sklearn.preprocessing import LabelEncoder\n",
    "from tensorflow.keras.preprocessing.sequence import pad_sequences\n",
    "import pandas as pd\n",
    "from tensorflow.keras.models import Sequential\n",
    "from tensorflow.keras.layers import Conv1D, MaxPooling1D, Flatten, Dense"
   ]
  },
  {
   "cell_type": "code",
   "execution_count": 20,
   "metadata": {},
   "outputs": [],
   "source": [
    "\n",
    "\n",
    "# Define CNN model\n",
    "def create_cnn_model(input_shape, num_classes):\n",
    "    model = Sequential()\n",
    "    model.add(Conv1D(32, kernel_size=3, activation='relu', input_shape=input_shape))\n",
    "    model.add(MaxPooling1D(pool_size=2))\n",
    "    model.add(Conv1D(32, kernel_size=3, activation='relu'))\n",
    "    model.add(MaxPooling1D(pool_size=2))\n",
    "    model.add(Flatten())\n",
    "    model.add(Dense(64, activation='relu'))\n",
    "    model.add(Dense(num_classes, activation='softmax'))\n",
    "    model.compile(optimizer='adam', loss='sparse_categorical_crossentropy', metrics=['accuracy'])\n",
    "    return model\n"
   ]
  },
  {
   "cell_type": "code",
   "execution_count": 3,
   "metadata": {},
   "outputs": [],
   "source": [
    "X = pd.read_csv(r'E:\\4th sem\\IOBS-2\\project\\Non Coding RNA classification\\preprocessing\\eiip.csv')\n",
    "y = pd.read_csv(r\"E:\\4th sem\\IOBS-2\\project\\Non Coding RNA classification\\preprocessing\\eiip_names.csv\")"
   ]
  },
  {
   "cell_type": "code",
   "execution_count": 6,
   "metadata": {},
   "outputs": [
    {
     "name": "stderr",
     "output_type": "stream",
     "text": [
      "c:\\Users\\neelr\\AppData\\Local\\Programs\\Python\\Python310\\lib\\site-packages\\sklearn\\preprocessing\\_label.py:114: DataConversionWarning: A column-vector y was passed when a 1d array was expected. Please change the shape of y to (n_samples, ), for example using ravel().\n",
      "  y = column_or_1d(y, warn=True)\n"
     ]
    }
   ],
   "source": [
    "from sklearn.preprocessing import LabelEncoder\n",
    "\n",
    "# Initialize LabelEncoder\n",
    "label_encoder = LabelEncoder()\n",
    "\n",
    "# Fit label encoder and transform labels\n",
    "encoded_labels = label_encoder.fit_transform(y)"
   ]
  },
  {
   "cell_type": "code",
   "execution_count": 13,
   "metadata": {},
   "outputs": [
    {
     "data": {
      "text/plain": [
       "1451"
      ]
     },
     "execution_count": 13,
     "metadata": {},
     "output_type": "execute_result"
    }
   ],
   "source": [
    "len(X)"
   ]
  },
  {
   "cell_type": "code",
   "execution_count": 23,
   "metadata": {},
   "outputs": [
    {
     "name": "stdout",
     "output_type": "stream",
     "text": [
      "Epoch 1/40\n",
      "46/46 [==============================] - 1s 6ms/step - loss: 1.9932 - accuracy: 0.3060\n",
      "Epoch 2/40\n",
      "46/46 [==============================] - 0s 7ms/step - loss: 1.6735 - accuracy: 0.4108\n",
      "Epoch 3/40\n",
      "46/46 [==============================] - 0s 6ms/step - loss: 1.4164 - accuracy: 0.5575\n",
      "Epoch 4/40\n",
      "46/46 [==============================] - 0s 7ms/step - loss: 1.1937 - accuracy: 0.6113\n",
      "Epoch 5/40\n",
      "46/46 [==============================] - 0s 6ms/step - loss: 1.0473 - accuracy: 0.6589\n",
      "Epoch 6/40\n",
      "46/46 [==============================] - 0s 5ms/step - loss: 0.9736 - accuracy: 0.6692\n",
      "Epoch 7/40\n",
      "46/46 [==============================] - 0s 6ms/step - loss: 0.8938 - accuracy: 0.7030\n",
      "Epoch 8/40\n",
      "46/46 [==============================] - 0s 8ms/step - loss: 0.8508 - accuracy: 0.7264\n",
      "Epoch 9/40\n",
      "46/46 [==============================] - 0s 7ms/step - loss: 0.8094 - accuracy: 0.7340\n",
      "Epoch 10/40\n",
      "46/46 [==============================] - 0s 7ms/step - loss: 0.7610 - accuracy: 0.7436\n",
      "Epoch 11/40\n",
      "46/46 [==============================] - 0s 7ms/step - loss: 0.7211 - accuracy: 0.7567\n",
      "Epoch 12/40\n",
      "46/46 [==============================] - 0s 7ms/step - loss: 0.6798 - accuracy: 0.7767\n",
      "Epoch 13/40\n",
      "46/46 [==============================] - 0s 6ms/step - loss: 0.6424 - accuracy: 0.7857\n",
      "Epoch 14/40\n",
      "46/46 [==============================] - 0s 6ms/step - loss: 0.6279 - accuracy: 0.7850\n",
      "Epoch 15/40\n",
      "46/46 [==============================] - 0s 6ms/step - loss: 0.6132 - accuracy: 0.8015\n",
      "Epoch 16/40\n",
      "46/46 [==============================] - 0s 6ms/step - loss: 0.5434 - accuracy: 0.8208\n",
      "Epoch 17/40\n",
      "46/46 [==============================] - 0s 7ms/step - loss: 0.5372 - accuracy: 0.8208\n",
      "Epoch 18/40\n",
      "46/46 [==============================] - 0s 6ms/step - loss: 0.4962 - accuracy: 0.8374\n",
      "Epoch 19/40\n",
      "46/46 [==============================] - 0s 6ms/step - loss: 0.4924 - accuracy: 0.8346\n",
      "Epoch 20/40\n",
      "46/46 [==============================] - 0s 7ms/step - loss: 0.4475 - accuracy: 0.8525\n",
      "Epoch 21/40\n",
      "46/46 [==============================] - 0s 6ms/step - loss: 0.4247 - accuracy: 0.8663\n",
      "Epoch 22/40\n",
      "46/46 [==============================] - 0s 6ms/step - loss: 0.3985 - accuracy: 0.8732\n",
      "Epoch 23/40\n",
      "46/46 [==============================] - 0s 6ms/step - loss: 0.3794 - accuracy: 0.8835\n",
      "Epoch 24/40\n",
      "46/46 [==============================] - 0s 6ms/step - loss: 0.3632 - accuracy: 0.8835\n",
      "Epoch 25/40\n",
      "46/46 [==============================] - 0s 6ms/step - loss: 0.3463 - accuracy: 0.8884\n",
      "Epoch 26/40\n",
      "46/46 [==============================] - 0s 5ms/step - loss: 0.3337 - accuracy: 0.8932\n",
      "Epoch 27/40\n",
      "46/46 [==============================] - 0s 6ms/step - loss: 0.3078 - accuracy: 0.9063\n",
      "Epoch 28/40\n",
      "46/46 [==============================] - 0s 7ms/step - loss: 0.2800 - accuracy: 0.9125\n",
      "Epoch 29/40\n",
      "46/46 [==============================] - 0s 6ms/step - loss: 0.2588 - accuracy: 0.9242\n",
      "Epoch 30/40\n",
      "46/46 [==============================] - 0s 5ms/step - loss: 0.2377 - accuracy: 0.9338\n",
      "Epoch 31/40\n",
      "46/46 [==============================] - 0s 6ms/step - loss: 0.2200 - accuracy: 0.9442\n",
      "Epoch 32/40\n",
      "46/46 [==============================] - 0s 6ms/step - loss: 0.2108 - accuracy: 0.9400\n",
      "Epoch 33/40\n",
      "46/46 [==============================] - 0s 7ms/step - loss: 0.2144 - accuracy: 0.9400\n",
      "Epoch 34/40\n",
      "46/46 [==============================] - 0s 6ms/step - loss: 0.1689 - accuracy: 0.9607\n",
      "Epoch 35/40\n",
      "46/46 [==============================] - 0s 6ms/step - loss: 0.1591 - accuracy: 0.9607\n",
      "Epoch 36/40\n",
      "46/46 [==============================] - 0s 6ms/step - loss: 0.1520 - accuracy: 0.9614\n",
      "Epoch 37/40\n",
      "46/46 [==============================] - 0s 6ms/step - loss: 0.1341 - accuracy: 0.9711\n",
      "Epoch 38/40\n",
      "46/46 [==============================] - 0s 6ms/step - loss: 0.1277 - accuracy: 0.9655\n",
      "Epoch 39/40\n",
      "46/46 [==============================] - 0s 6ms/step - loss: 0.1078 - accuracy: 0.9800\n",
      "Epoch 40/40\n",
      "46/46 [==============================] - 0s 7ms/step - loss: 0.0963 - accuracy: 0.9835\n"
     ]
    },
    {
     "data": {
      "text/plain": [
       "<keras.src.callbacks.History at 0x1a2e7637b80>"
      ]
     },
     "execution_count": 23,
     "metadata": {},
     "output_type": "execute_result"
    }
   ],
   "source": [
    "# Preprocess data\n",
    "max_sequence_length = 100  # Example maximum sequence length\n",
    "\n",
    "\n",
    "# Reshape data for CNN input\n",
    "input_shape = (X.shape[1], 1)\n",
    "# X = X.reshape(X.shape[0], X.shape[1], 1)\n",
    "\n",
    "# Number of classes\n",
    "num_classes = len(np.unique(encoded_labels))\n",
    "\n",
    "# Create CNN model\n",
    "model = create_cnn_model(input_shape, num_classes)\n",
    "\n",
    "# Train CNN model\n",
    "model.fit(X, encoded_labels, epochs=40)\n",
    "\n",
    "# # Evaluate model\n",
    "# loss, accuracy = model.evaluate(X_test, y_test)\n",
    "# print(\"Test Loss:\", loss)\n",
    "# print(\"Test Accuracy:\", accuracy)\n"
   ]
  }
 ],
 "metadata": {
  "kernelspec": {
   "display_name": "Python 3",
   "language": "python",
   "name": "python3"
  },
  "language_info": {
   "codemirror_mode": {
    "name": "ipython",
    "version": 3
   },
   "file_extension": ".py",
   "mimetype": "text/x-python",
   "name": "python",
   "nbconvert_exporter": "python",
   "pygments_lexer": "ipython3",
   "version": "3.10.0rc1"
  }
 },
 "nbformat": 4,
 "nbformat_minor": 2
}
