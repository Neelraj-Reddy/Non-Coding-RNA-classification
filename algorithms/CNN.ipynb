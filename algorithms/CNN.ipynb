{
 "cells": [
  {
   "cell_type": "code",
   "execution_count": 24,
   "metadata": {},
   "outputs": [],
   "source": [
    "import numpy as np\n",
    "from sklearn.preprocessing import LabelEncoder\n",
    "from tensorflow.keras.preprocessing.sequence import pad_sequences\n",
    "import pandas as pd\n",
    "from tensorflow.keras.models import Sequential\n",
    "from tensorflow.keras.layers import Conv1D, MaxPooling1D, Flatten, Dense"
   ]
  },
  {
   "cell_type": "code",
   "execution_count": 25,
   "metadata": {},
   "outputs": [],
   "source": [
    "\n",
    "\n",
    "# Define CNN model\n",
    "def create_cnn_model(input_shape, num_classes):\n",
    "    model = Sequential()\n",
    "    model.add(Conv1D(32, kernel_size=3, activation='relu', input_shape=input_shape))\n",
    "    model.add(MaxPooling1D(pool_size=2))\n",
    "    model.add(Conv1D(32, kernel_size=3, activation='relu'))\n",
    "    model.add(MaxPooling1D(pool_size=2))\n",
    "    model.add(Flatten())\n",
    "    model.add(Dense(64, activation='relu'))\n",
    "    model.add(Dense(num_classes, activation='softmax'))\n",
    "    model.compile(optimizer='adam', loss='sparse_categorical_crossentropy', metrics=['accuracy'])\n",
    "    return model\n"
   ]
  },
  {
   "cell_type": "code",
   "execution_count": 34,
   "metadata": {},
   "outputs": [],
   "source": [
    "X = pd.read_csv(r'E:\\4th sem\\IOBS-2\\project\\Non Coding RNA classification\\Cleaned_data\\0-100_features.csv')\n",
    "y = pd.read_csv(r\"E:\\4th sem\\IOBS-2\\project\\Non Coding RNA classification\\Cleaned_data\\0-100_class.csv\")"
   ]
  },
  {
   "cell_type": "code",
   "execution_count": 35,
   "metadata": {},
   "outputs": [
    {
     "name": "stderr",
     "output_type": "stream",
     "text": [
      "c:\\Users\\neelr\\AppData\\Local\\Programs\\Python\\Python310\\lib\\site-packages\\sklearn\\preprocessing\\_label.py:114: DataConversionWarning: A column-vector y was passed when a 1d array was expected. Please change the shape of y to (n_samples, ), for example using ravel().\n",
      "  y = column_or_1d(y, warn=True)\n"
     ]
    }
   ],
   "source": [
    "from sklearn.preprocessing import LabelEncoder\n",
    "\n",
    "# Initialize LabelEncoder\n",
    "label_encoder = LabelEncoder()\n",
    "\n",
    "# Fit label encoder and transform labels\n",
    "encoded_labels = label_encoder.fit_transform(y)"
   ]
  },
  {
   "cell_type": "code",
   "execution_count": 36,
   "metadata": {},
   "outputs": [
    {
     "name": "stdout",
     "output_type": "stream",
     "text": [
      "1452 1452\n"
     ]
    }
   ],
   "source": [
    "print(len(X),len(y))"
   ]
  },
  {
   "cell_type": "code",
   "execution_count": 37,
   "metadata": {},
   "outputs": [
    {
     "name": "stdout",
     "output_type": "stream",
     "text": [
      "Epoch 1/40\n",
      "46/46 [==============================] - 2s 9ms/step - loss: 1.9829 - accuracy: 0.3216\n",
      "Epoch 2/40\n",
      "46/46 [==============================] - 0s 6ms/step - loss: 1.6633 - accuracy: 0.4298\n",
      "Epoch 3/40\n",
      "46/46 [==============================] - 0s 7ms/step - loss: 1.3861 - accuracy: 0.5537\n",
      "Epoch 4/40\n",
      "46/46 [==============================] - 0s 6ms/step - loss: 1.1633 - accuracy: 0.6226\n",
      "Epoch 5/40\n",
      "46/46 [==============================] - 0s 6ms/step - loss: 1.0365 - accuracy: 0.6536\n",
      "Epoch 6/40\n",
      "46/46 [==============================] - 0s 6ms/step - loss: 0.9595 - accuracy: 0.6811\n",
      "Epoch 7/40\n",
      "46/46 [==============================] - 0s 6ms/step - loss: 0.8929 - accuracy: 0.7004\n",
      "Epoch 8/40\n",
      "46/46 [==============================] - 0s 6ms/step - loss: 0.8439 - accuracy: 0.7211\n",
      "Epoch 9/40\n",
      "46/46 [==============================] - 0s 6ms/step - loss: 0.7935 - accuracy: 0.7383\n",
      "Epoch 10/40\n",
      "46/46 [==============================] - 0s 6ms/step - loss: 0.7715 - accuracy: 0.7369\n",
      "Epoch 11/40\n",
      "46/46 [==============================] - 0s 6ms/step - loss: 0.7232 - accuracy: 0.7638\n",
      "Epoch 12/40\n",
      "46/46 [==============================] - 0s 5ms/step - loss: 0.6736 - accuracy: 0.7769\n",
      "Epoch 13/40\n",
      "46/46 [==============================] - 0s 6ms/step - loss: 0.6373 - accuracy: 0.7941\n",
      "Epoch 14/40\n",
      "46/46 [==============================] - 0s 6ms/step - loss: 0.5932 - accuracy: 0.8106\n",
      "Epoch 15/40\n",
      "46/46 [==============================] - 0s 7ms/step - loss: 0.5654 - accuracy: 0.8182\n",
      "Epoch 16/40\n",
      "46/46 [==============================] - 0s 6ms/step - loss: 0.5381 - accuracy: 0.8182\n",
      "Epoch 17/40\n",
      "46/46 [==============================] - 0s 6ms/step - loss: 0.5044 - accuracy: 0.8375\n",
      "Epoch 18/40\n",
      "46/46 [==============================] - 0s 6ms/step - loss: 0.4638 - accuracy: 0.8547\n",
      "Epoch 19/40\n",
      "46/46 [==============================] - 0s 6ms/step - loss: 0.4389 - accuracy: 0.8588\n",
      "Epoch 20/40\n",
      "46/46 [==============================] - 0s 6ms/step - loss: 0.4184 - accuracy: 0.8636\n",
      "Epoch 21/40\n",
      "46/46 [==============================] - 0s 6ms/step - loss: 0.3907 - accuracy: 0.8781\n",
      "Epoch 22/40\n",
      "46/46 [==============================] - 0s 5ms/step - loss: 0.3693 - accuracy: 0.8850\n",
      "Epoch 23/40\n",
      "46/46 [==============================] - 0s 5ms/step - loss: 0.3584 - accuracy: 0.8740\n",
      "Epoch 24/40\n",
      "46/46 [==============================] - 0s 6ms/step - loss: 0.3388 - accuracy: 0.8905\n",
      "Epoch 25/40\n",
      "46/46 [==============================] - 0s 6ms/step - loss: 0.3004 - accuracy: 0.9118\n",
      "Epoch 26/40\n",
      "46/46 [==============================] - 0s 6ms/step - loss: 0.2811 - accuracy: 0.9146\n",
      "Epoch 27/40\n",
      "46/46 [==============================] - 0s 8ms/step - loss: 0.2852 - accuracy: 0.9063\n",
      "Epoch 28/40\n",
      "46/46 [==============================] - 0s 8ms/step - loss: 0.2474 - accuracy: 0.9298\n",
      "Epoch 29/40\n",
      "46/46 [==============================] - 0s 7ms/step - loss: 0.2274 - accuracy: 0.9373\n",
      "Epoch 30/40\n",
      "46/46 [==============================] - 0s 7ms/step - loss: 0.2071 - accuracy: 0.9449\n",
      "Epoch 31/40\n",
      "46/46 [==============================] - 0s 7ms/step - loss: 0.1920 - accuracy: 0.9421\n",
      "Epoch 32/40\n",
      "46/46 [==============================] - 0s 6ms/step - loss: 0.1837 - accuracy: 0.9525\n",
      "Epoch 33/40\n",
      "46/46 [==============================] - 0s 7ms/step - loss: 0.1619 - accuracy: 0.9621\n",
      "Epoch 34/40\n",
      "46/46 [==============================] - 0s 7ms/step - loss: 0.1665 - accuracy: 0.9532\n",
      "Epoch 35/40\n",
      "46/46 [==============================] - 0s 5ms/step - loss: 0.1497 - accuracy: 0.9607\n",
      "Epoch 36/40\n",
      "46/46 [==============================] - 0s 6ms/step - loss: 0.1343 - accuracy: 0.9697\n",
      "Epoch 37/40\n",
      "46/46 [==============================] - 0s 6ms/step - loss: 0.1166 - accuracy: 0.9793\n",
      "Epoch 38/40\n",
      "46/46 [==============================] - 0s 6ms/step - loss: 0.1130 - accuracy: 0.9759\n",
      "Epoch 39/40\n",
      "46/46 [==============================] - 0s 6ms/step - loss: 0.1063 - accuracy: 0.9793\n",
      "Epoch 40/40\n",
      "46/46 [==============================] - 0s 7ms/step - loss: 0.0934 - accuracy: 0.9821\n"
     ]
    },
    {
     "data": {
      "text/plain": [
       "<keras.src.callbacks.History at 0x1a2eb0fb250>"
      ]
     },
     "execution_count": 37,
     "metadata": {},
     "output_type": "execute_result"
    }
   ],
   "source": [
    "# Preprocess data\n",
    "max_sequence_length = 100  # Example maximum sequence length\n",
    "\n",
    "\n",
    "# Reshape data for CNN input\n",
    "input_shape = (X.shape[1], 1)\n",
    "\n",
    "# Number of classes\n",
    "num_classes = len(np.unique(encoded_labels))\n",
    "\n",
    "# Create CNN model\n",
    "model = create_cnn_model(input_shape, num_classes)\n",
    "\n",
    "# Train CNN model\n",
    "model.fit(X, encoded_labels, epochs=40)\n"
   ]
  },
  {
   "cell_type": "code",
   "execution_count": 44,
   "metadata": {},
   "outputs": [
    {
     "name": "stderr",
     "output_type": "stream",
     "text": [
      "c:\\Users\\neelr\\AppData\\Local\\Programs\\Python\\Python310\\lib\\site-packages\\sklearn\\preprocessing\\_label.py:114: DataConversionWarning: A column-vector y was passed when a 1d array was expected. Please change the shape of y to (n_samples, ), for example using ravel().\n",
      "  y = column_or_1d(y, warn=True)\n"
     ]
    }
   ],
   "source": [
    "X_200 = pd.read_csv(r'E:\\4th sem\\IOBS-2\\project\\Non Coding RNA classification\\Cleaned_data\\100-200_features.csv')\n",
    "y_200 = pd.read_csv(r\"E:\\4th sem\\IOBS-2\\project\\Non Coding RNA classification\\Cleaned_data\\100-200_class.csv\")\n",
    "\n",
    "from sklearn.preprocessing import LabelEncoder\n",
    "\n",
    "# Initialize LabelEncoder\n",
    "label_encoder = LabelEncoder()\n",
    "\n",
    "# Fit label encoder and transform labels\n",
    "encoded_labels_200 = label_encoder.fit_transform(y_200)"
   ]
  },
  {
   "cell_type": "code",
   "execution_count": null,
   "metadata": {},
   "outputs": [],
   "source": [
    "encoded_labels_200"
   ]
  },
  {
   "cell_type": "code",
   "execution_count": 49,
   "metadata": {},
   "outputs": [
    {
     "name": "stdout",
     "output_type": "stream",
     "text": [
      "Epoch 1/30\n",
      "94/94 [==============================] - 2s 7ms/step - loss: 2.0225 - accuracy: 0.3435\n",
      "Epoch 2/30\n",
      "94/94 [==============================] - 1s 7ms/step - loss: 1.5691 - accuracy: 0.4851\n",
      "Epoch 3/30\n",
      "94/94 [==============================] - 1s 6ms/step - loss: 1.3541 - accuracy: 0.5733\n",
      "Epoch 4/30\n",
      "94/94 [==============================] - 1s 6ms/step - loss: 1.1960 - accuracy: 0.6215\n",
      "Epoch 5/30\n",
      "94/94 [==============================] - 1s 6ms/step - loss: 1.0711 - accuracy: 0.6579\n",
      "Epoch 6/30\n",
      "94/94 [==============================] - 1s 6ms/step - loss: 0.9670 - accuracy: 0.6943\n",
      "Epoch 7/30\n",
      "94/94 [==============================] - 1s 6ms/step - loss: 0.8875 - accuracy: 0.7207\n",
      "Epoch 8/30\n",
      "94/94 [==============================] - 1s 6ms/step - loss: 0.8085 - accuracy: 0.7421\n",
      "Epoch 9/30\n",
      "94/94 [==============================] - 1s 6ms/step - loss: 0.7309 - accuracy: 0.7655\n",
      "Epoch 10/30\n",
      "94/94 [==============================] - 1s 6ms/step - loss: 0.6782 - accuracy: 0.7868\n",
      "Epoch 11/30\n",
      "94/94 [==============================] - 1s 6ms/step - loss: 0.6221 - accuracy: 0.8032\n",
      "Epoch 12/30\n",
      "94/94 [==============================] - 1s 7ms/step - loss: 0.5579 - accuracy: 0.8233\n",
      "Epoch 13/30\n",
      "94/94 [==============================] - 1s 6ms/step - loss: 0.5132 - accuracy: 0.8363\n",
      "Epoch 14/30\n",
      "94/94 [==============================] - 1s 6ms/step - loss: 0.4431 - accuracy: 0.8577\n",
      "Epoch 15/30\n",
      "94/94 [==============================] - 1s 6ms/step - loss: 0.4147 - accuracy: 0.8674\n",
      "Epoch 16/30\n",
      "94/94 [==============================] - 1s 6ms/step - loss: 0.3572 - accuracy: 0.8911\n",
      "Epoch 17/30\n",
      "94/94 [==============================] - 1s 6ms/step - loss: 0.3246 - accuracy: 0.9048\n",
      "Epoch 18/30\n",
      "94/94 [==============================] - 1s 7ms/step - loss: 0.2845 - accuracy: 0.9131\n",
      "Epoch 19/30\n",
      "94/94 [==============================] - 1s 6ms/step - loss: 0.2488 - accuracy: 0.9282\n",
      "Epoch 20/30\n",
      "94/94 [==============================] - 1s 6ms/step - loss: 0.2141 - accuracy: 0.9489\n",
      "Epoch 21/30\n",
      "94/94 [==============================] - 1s 6ms/step - loss: 0.1947 - accuracy: 0.9429\n",
      "Epoch 22/30\n",
      "94/94 [==============================] - 1s 6ms/step - loss: 0.1604 - accuracy: 0.9599\n",
      "Epoch 23/30\n",
      "94/94 [==============================] - 1s 6ms/step - loss: 0.1346 - accuracy: 0.9676\n",
      "Epoch 24/30\n",
      "94/94 [==============================] - 1s 6ms/step - loss: 0.1186 - accuracy: 0.9746\n",
      "Epoch 25/30\n",
      "94/94 [==============================] - 1s 7ms/step - loss: 0.0979 - accuracy: 0.9826\n",
      "Epoch 26/30\n",
      "94/94 [==============================] - 1s 6ms/step - loss: 0.0788 - accuracy: 0.9883\n",
      "Epoch 27/30\n",
      "94/94 [==============================] - 1s 6ms/step - loss: 0.0653 - accuracy: 0.9930\n",
      "Epoch 28/30\n",
      "94/94 [==============================] - 1s 6ms/step - loss: 0.0441 - accuracy: 0.9973\n",
      "Epoch 29/30\n",
      "94/94 [==============================] - 1s 6ms/step - loss: 0.0414 - accuracy: 0.9983\n",
      "Epoch 30/30\n",
      "94/94 [==============================] - 1s 6ms/step - loss: 0.0346 - accuracy: 0.9990\n"
     ]
    },
    {
     "data": {
      "text/plain": [
       "<keras.src.callbacks.History at 0x1a2ead03430>"
      ]
     },
     "execution_count": 49,
     "metadata": {},
     "output_type": "execute_result"
    }
   ],
   "source": [
    "\n",
    "# Now, you want to train the model for a new input length (200) without changing the architecture\n",
    "# Assuming you have new data X_200 and encoded_labels_200 for the new input length\n",
    "\n",
    "# Create a new CNN model with the same architecture as the previous model\n",
    "# No need to compile the model as we will be loading the weights\n",
    "model = create_cnn_model((200, 1), 13)\n",
    "\n",
    "# Load weights from the previously trained model\n",
    "# new_model.set_weights(model.get_weights())\n",
    "\n",
    "# Train the new model with the new data for 200 input length\n",
    "model.fit(X_200, encoded_labels_200, epochs=30)\n",
    "\n"
   ]
  }
 ],
 "metadata": {
  "kernelspec": {
   "display_name": "Python 3",
   "language": "python",
   "name": "python3"
  },
  "language_info": {
   "codemirror_mode": {
    "name": "ipython",
    "version": 3
   },
   "file_extension": ".py",
   "mimetype": "text/x-python",
   "name": "python",
   "nbconvert_exporter": "python",
   "pygments_lexer": "ipython3",
   "version": "3.10.0rc1"
  }
 },
 "nbformat": 4,
 "nbformat_minor": 2
}
