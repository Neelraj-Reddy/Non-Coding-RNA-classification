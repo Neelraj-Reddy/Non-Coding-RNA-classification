{
  "cells": [
    {
      "cell_type": "code",
      "execution_count": 40,
      "metadata": {
        "id": "9u6zsVxVE2g5"
      },
      "outputs": [],
      "source": [
        "import numpy as np\n",
        "from sklearn.preprocessing import LabelEncoder\n",
        "from tensorflow.keras.preprocessing.sequence import pad_sequences\n",
        "import pandas as pd\n",
        "from tensorflow.keras.models import Sequential\n",
        "from tensorflow.keras.layers import Conv1D, MaxPooling1D, Flatten, Dense, LSTM\n",
        "import tensorflow as tf\n",
        "from tensorflow.keras.models import Sequential\n",
        "from tensorflow.keras.layers import Dense, Dropout, Flatten\n",
        "from tensorflow.keras.callbacks import EarlyStopping"
      ]
    },
    {
      "cell_type": "code",
      "execution_count": 42,
      "metadata": {
        "id": "CqbP2azpE2g9"
      },
      "outputs": [],
      "source": [
        "\n",
        "\n",
        "# # Define CNN model\n",
        "# def create_cnn_model(input_shape, num_classes):\n",
        "#     model = Sequential()\n",
        "#     model.add(Dense(32, activation='relu', input_shape=input_shape))\n",
        "#     model.add(MaxPooling1D(pool_size=3))\n",
        "#     # model.add(Conv1D(32, kernel_size=3, activation='relu'))\n",
        "#     # model.add(MaxPooling1D(pool_size=2))\n",
        "#     model.add(LSTM(64))\n",
        "#     model.add(Flatten())\n",
        "#     model.add(Dense(64, activation='relu'))\n",
        "#     model.add(Dense(num_classes, activation='softmax'))\n",
        "#     model.compile(optimizer='adam', loss='sparse_categorical_crossentropy', metrics=['accuracy'])\n",
        "#     return model\n",
        "# def create_cnn_model(input_shape, num_classes):\n",
        "#     model = Sequential()\n",
        "#     model.add(Conv1D(32, kernel_size=3, activation='relu', input_shape=input_shape))\n",
        "#     model.add(MaxPooling1D(pool_size=2))\n",
        "#     model.add(Conv1D(32, kernel_size=3, activation='relu'))\n",
        "#     model.add(MaxPooling1D(pool_size=2))\n",
        "#     model.add(LSTM(64))  # Adding LSTM layer\n",
        "#     model.add(Flatten())\n",
        "#     model.add(Dense(64, activation='relu'))\n",
        "#     model.add(Dense(num_classes, activation='softmax'))\n",
        "#     model.compile(optimizer='adam', loss='sparse_categorical_crossentropy', metrics=['accuracy'])\n",
        "#     return model\n",
        "\n",
        "\n",
        "def create_nn_model(input_shape, num_classes):\n",
        "    model = Sequential([\n",
        "        Dense(128, activation='relu', input_shape=input_shape),\n",
        "        Dropout(0.5),\n",
        "        Dense(64, activation='relu'),\n",
        "        Dropout(0.5),\n",
        "        Flatten(),\n",
        "        Dense(num_classes, activation='softmax')\n",
        "    ])\n",
        "\n",
        "    model.compile(optimizer='adam',\n",
        "                  loss='sparse_categorical_crossentropy',\n",
        "                  metrics=['accuracy'])\n",
        "    \n",
        "    return model"
      ]
    },
    {
      "cell_type": "code",
      "execution_count": 39,
      "metadata": {
        "id": "hdXx_KEvE2g-"
      },
      "outputs": [],
      "source": [
        "X = pd.read_csv(r'E:\\4th sem\\IOBS-2\\project\\Non Coding RNA classification\\Cleaned_data\\EIIP\\0-100_features.csv')\n",
        "y = pd.read_csv(r\"E:\\4th sem\\IOBS-2\\project\\Non Coding RNA classification\\Cleaned_data\\EIIP\\0-100_class.csv\")"
      ]
    },
    {
      "cell_type": "code",
      "execution_count": 5,
      "metadata": {
        "colab": {
          "base_uri": "https://localhost:8080/"
        },
        "id": "Pyw9pQjqE2g_",
        "outputId": "2066efb2-5570-41d2-e3a3-fd0f5c92c7fb"
      },
      "outputs": [
        {
          "name": "stderr",
          "output_type": "stream",
          "text": [
            "c:\\Users\\neelr\\AppData\\Local\\Programs\\Python\\Python310\\lib\\site-packages\\sklearn\\preprocessing\\_label.py:114: DataConversionWarning: A column-vector y was passed when a 1d array was expected. Please change the shape of y to (n_samples, ), for example using ravel().\n",
            "  y = column_or_1d(y, warn=True)\n"
          ]
        }
      ],
      "source": [
        "from sklearn.preprocessing import LabelEncoder\n",
        "\n",
        "# Initialize LabelEncoder\n",
        "label_encoder = LabelEncoder()\n",
        "\n",
        "# Fit label encoder and transform labels\n",
        "encoded_labels = label_encoder.fit_transform(y)"
      ]
    },
    {
      "cell_type": "code",
      "execution_count": 6,
      "metadata": {
        "colab": {
          "base_uri": "https://localhost:8080/"
        },
        "id": "mjM5PEF3E2hA",
        "outputId": "6653b988-dca3-4dbc-e2b6-60c3cf1e9b67"
      },
      "outputs": [
        {
          "name": "stdout",
          "output_type": "stream",
          "text": [
            "1452 1452\n"
          ]
        }
      ],
      "source": [
        "print(len(X),len(y))"
      ]
    },
    {
      "cell_type": "code",
      "execution_count": 36,
      "metadata": {
        "colab": {
          "base_uri": "https://localhost:8080/"
        },
        "id": "DU992hyWIuky",
        "outputId": "e27e137a-b8eb-43ee-e05c-9a01fb28b549"
      },
      "outputs": [
        {
          "name": "stdout",
          "output_type": "stream",
          "text": [
            "Train set shapes: (1306, 100) (1306,)\n",
            "Test set shapes: (73, 100) (73,)\n",
            "Validation set shapes: (73, 100) (73,)\n"
          ]
        }
      ],
      "source": [
        "from sklearn.model_selection import train_test_split\n",
        "\n",
        "# Split data into train (80%) and combined test/validation (20%)\n",
        "X_train, X_temp, y_train, y_temp = train_test_split(X, encoded_labels, test_size=0.1, shuffle=True, random_state=42)\n",
        "\n",
        "# Split combined test/validation into test (10%) and validation (10%)\n",
        "X_test, X_val, y_test, y_val = train_test_split(X_temp, y_temp, test_size=0.50, shuffle=True, random_state=42)\n",
        "\n",
        "# Display the shapes of the resulting sets\n",
        "print(\"Train set shapes:\", X_train.shape, y_train.shape)\n",
        "print(\"Test set shapes:\", X_test.shape, y_test.shape)\n",
        "print(\"Validation set shapes:\", X_val.shape, y_val.shape)\n"
      ]
    },
    {
      "cell_type": "code",
      "execution_count": 43,
      "metadata": {
        "colab": {
          "base_uri": "https://localhost:8080/"
        },
        "id": "LeoUu_5fE2hA",
        "outputId": "dc27a3bf-773b-45ca-f7fe-64b80169c6ba"
      },
      "outputs": [
        {
          "name": "stdout",
          "output_type": "stream",
          "text": [
            "Model: \"sequential_12\"\n",
            "_________________________________________________________________\n",
            " Layer (type)                Output Shape              Param #   \n",
            "=================================================================\n",
            " dense_30 (Dense)            (None, 100, 128)          256       \n",
            "                                                                 \n",
            " dropout (Dropout)           (None, 100, 128)          0         \n",
            "                                                                 \n",
            " dense_31 (Dense)            (None, 100, 64)           8256      \n",
            "                                                                 \n",
            " dropout_1 (Dropout)         (None, 100, 64)           0         \n",
            "                                                                 \n",
            " flatten_11 (Flatten)        (None, 6400)              0         \n",
            "                                                                 \n",
            " dense_32 (Dense)            (None, 12)                76812     \n",
            "                                                                 \n",
            "=================================================================\n",
            "Total params: 85324 (333.30 KB)\n",
            "Trainable params: 85324 (333.30 KB)\n",
            "Non-trainable params: 0 (0.00 Byte)\n",
            "_________________________________________________________________\n"
          ]
        }
      ],
      "source": [
        "# Preprocess data\n",
        "max_sequence_length = 100  # Example maximum sequence length\n",
        "\n",
        "\n",
        "# Reshape data for CNN input\n",
        "input_shape = (X_train.shape[1], 1)\n",
        "\n",
        "# Number of classes\n",
        "num_classes = len(np.unique(y_train))\n",
        "\n",
        "# Create CNN model\n",
        "model = create_nn_model(input_shape, num_classes)\n",
        "\n",
        "model.summary()"
      ]
    },
    {
      "cell_type": "code",
      "execution_count": 44,
      "metadata": {},
      "outputs": [
        {
          "name": "stdout",
          "output_type": "stream",
          "text": [
            "Epoch 1/30\n",
            "41/41 [==============================] - 2s 21ms/step - loss: 1.9461 - accuracy: 0.3469 - val_loss: 1.8357 - val_accuracy: 0.4247\n",
            "Epoch 2/30\n",
            "41/41 [==============================] - 1s 12ms/step - loss: 1.5106 - accuracy: 0.5360 - val_loss: 1.3313 - val_accuracy: 0.5890\n",
            "Epoch 3/30\n",
            "41/41 [==============================] - 0s 12ms/step - loss: 1.0413 - accuracy: 0.6608 - val_loss: 1.0662 - val_accuracy: 0.6438\n",
            "Epoch 4/30\n",
            "41/41 [==============================] - 1s 14ms/step - loss: 0.8122 - accuracy: 0.7221 - val_loss: 1.0270 - val_accuracy: 0.6438\n",
            "Epoch 5/30\n",
            "41/41 [==============================] - 1s 12ms/step - loss: 0.7142 - accuracy: 0.7588 - val_loss: 1.0571 - val_accuracy: 0.6575\n",
            "Epoch 6/30\n",
            "41/41 [==============================] - 0s 12ms/step - loss: 0.6518 - accuracy: 0.7779 - val_loss: 1.0048 - val_accuracy: 0.6712\n",
            "Epoch 7/30\n",
            "41/41 [==============================] - 1s 13ms/step - loss: 0.6163 - accuracy: 0.7864 - val_loss: 1.0185 - val_accuracy: 0.6438\n",
            "Epoch 8/30\n",
            "41/41 [==============================] - 1s 15ms/step - loss: 0.5819 - accuracy: 0.8025 - val_loss: 1.0290 - val_accuracy: 0.6575\n",
            "Epoch 9/30\n",
            "41/41 [==============================] - 0s 12ms/step - loss: 0.5565 - accuracy: 0.8025 - val_loss: 1.0754 - val_accuracy: 0.6575\n",
            "Epoch 10/30\n",
            "41/41 [==============================] - 1s 13ms/step - loss: 0.5561 - accuracy: 0.8047 - val_loss: 1.0753 - val_accuracy: 0.6575\n",
            "Epoch 11/30\n",
            "41/41 [==============================] - 1s 14ms/step - loss: 0.5251 - accuracy: 0.8247 - val_loss: 1.1269 - val_accuracy: 0.6712\n",
            "Epoch 12/30\n",
            "41/41 [==============================] - 1s 12ms/step - loss: 0.5244 - accuracy: 0.8185 - val_loss: 1.1406 - val_accuracy: 0.6849\n",
            "Epoch 13/30\n",
            "41/41 [==============================] - 1s 12ms/step - loss: 0.5083 - accuracy: 0.8224 - val_loss: 1.2092 - val_accuracy: 0.6575\n",
            "Epoch 14/30\n",
            "41/41 [==============================] - 1s 13ms/step - loss: 0.5105 - accuracy: 0.8147 - val_loss: 1.1813 - val_accuracy: 0.6712\n",
            "Epoch 15/30\n",
            "41/41 [==============================] - 1s 12ms/step - loss: 0.5191 - accuracy: 0.8185 - val_loss: 1.2007 - val_accuracy: 0.6575\n",
            "Epoch 16/30\n",
            "41/41 [==============================] - 1s 13ms/step - loss: 0.5041 - accuracy: 0.8162 - val_loss: 1.2315 - val_accuracy: 0.6438\n",
            "Epoch 17/30\n",
            "41/41 [==============================] - 1s 13ms/step - loss: 0.4938 - accuracy: 0.8277 - val_loss: 1.2579 - val_accuracy: 0.6849\n",
            "Epoch 18/30\n",
            "41/41 [==============================] - 1s 12ms/step - loss: 0.4934 - accuracy: 0.8239 - val_loss: 1.2396 - val_accuracy: 0.6575\n",
            "Epoch 19/30\n",
            "41/41 [==============================] - 1s 13ms/step - loss: 0.4826 - accuracy: 0.8277 - val_loss: 1.2272 - val_accuracy: 0.6712\n",
            "Epoch 20/30\n",
            "41/41 [==============================] - 1s 13ms/step - loss: 0.4809 - accuracy: 0.8224 - val_loss: 1.2746 - val_accuracy: 0.6712\n",
            "Epoch 21/30\n",
            "41/41 [==============================] - 0s 12ms/step - loss: 0.4913 - accuracy: 0.8185 - val_loss: 1.2373 - val_accuracy: 0.6849\n",
            "Epoch 22/30\n",
            "41/41 [==============================] - 0s 12ms/step - loss: 0.4714 - accuracy: 0.8247 - val_loss: 1.2431 - val_accuracy: 0.6849\n",
            "Epoch 23/30\n",
            "41/41 [==============================] - 1s 13ms/step - loss: 0.4686 - accuracy: 0.8300 - val_loss: 1.3117 - val_accuracy: 0.6712\n",
            "Epoch 24/30\n",
            "41/41 [==============================] - 1s 13ms/step - loss: 0.4877 - accuracy: 0.8147 - val_loss: 1.3034 - val_accuracy: 0.6849\n",
            "Epoch 25/30\n",
            "41/41 [==============================] - 0s 11ms/step - loss: 0.4776 - accuracy: 0.8308 - val_loss: 1.3194 - val_accuracy: 0.6712\n",
            "Epoch 26/30\n",
            "41/41 [==============================] - 1s 12ms/step - loss: 0.4797 - accuracy: 0.8147 - val_loss: 1.3004 - val_accuracy: 0.6849\n",
            "Epoch 27/30\n",
            "41/41 [==============================] - 1s 13ms/step - loss: 0.4653 - accuracy: 0.8270 - val_loss: 1.3180 - val_accuracy: 0.6849\n",
            "Epoch 28/30\n",
            "41/41 [==============================] - 0s 12ms/step - loss: 0.4771 - accuracy: 0.8270 - val_loss: 1.2987 - val_accuracy: 0.6712\n",
            "Epoch 29/30\n",
            "11/41 [=======>......................] - ETA: 0s - loss: 0.4368 - accuracy: 0.8295"
          ]
        },
        {
          "ename": "KeyboardInterrupt",
          "evalue": "",
          "output_type": "error",
          "traceback": [
            "\u001b[1;31m---------------------------------------------------------------------------\u001b[0m",
            "\u001b[1;31mKeyboardInterrupt\u001b[0m                         Traceback (most recent call last)",
            "Cell \u001b[1;32mIn[44], line 4\u001b[0m\n\u001b[0;32m      1\u001b[0m \u001b[38;5;66;03m# Train CNN model\u001b[39;00m\n\u001b[0;32m      2\u001b[0m \u001b[38;5;66;03m# model.fit(X, encoded_labels, epochs=200)\u001b[39;00m\n\u001b[0;32m      3\u001b[0m \u001b[38;5;66;03m# Train the model\u001b[39;00m\n\u001b[1;32m----> 4\u001b[0m history \u001b[38;5;241m=\u001b[39m \u001b[43mmodel\u001b[49m\u001b[38;5;241;43m.\u001b[39;49m\u001b[43mfit\u001b[49m\u001b[43m(\u001b[49m\u001b[43mX_train\u001b[49m\u001b[43m,\u001b[49m\u001b[43m \u001b[49m\u001b[43my_train\u001b[49m\u001b[43m,\u001b[49m\u001b[43m \u001b[49m\u001b[43mepochs\u001b[49m\u001b[38;5;241;43m=\u001b[39;49m\u001b[38;5;241;43m30\u001b[39;49m\u001b[43m,\u001b[49m\u001b[43m \u001b[49m\u001b[43mvalidation_data\u001b[49m\u001b[38;5;241;43m=\u001b[39;49m\u001b[43m(\u001b[49m\u001b[43mX_val\u001b[49m\u001b[43m,\u001b[49m\u001b[43m \u001b[49m\u001b[43my_val\u001b[49m\u001b[43m)\u001b[49m\u001b[43m)\u001b[49m\n\u001b[0;32m      6\u001b[0m \u001b[38;5;66;03m# Evaluate the model on the test set\u001b[39;00m\n\u001b[0;32m      7\u001b[0m test_loss, test_accuracy \u001b[38;5;241m=\u001b[39m model\u001b[38;5;241m.\u001b[39mevaluate(X_test, y_test)\n",
            "File \u001b[1;32mc:\\Users\\neelr\\AppData\\Local\\Programs\\Python\\Python310\\lib\\site-packages\\keras\\src\\utils\\traceback_utils.py:65\u001b[0m, in \u001b[0;36mfilter_traceback.<locals>.error_handler\u001b[1;34m(*args, **kwargs)\u001b[0m\n\u001b[0;32m     63\u001b[0m filtered_tb \u001b[38;5;241m=\u001b[39m \u001b[38;5;28;01mNone\u001b[39;00m\n\u001b[0;32m     64\u001b[0m \u001b[38;5;28;01mtry\u001b[39;00m:\n\u001b[1;32m---> 65\u001b[0m     \u001b[38;5;28;01mreturn\u001b[39;00m fn(\u001b[38;5;241m*\u001b[39margs, \u001b[38;5;241m*\u001b[39m\u001b[38;5;241m*\u001b[39mkwargs)\n\u001b[0;32m     66\u001b[0m \u001b[38;5;28;01mexcept\u001b[39;00m \u001b[38;5;167;01mException\u001b[39;00m \u001b[38;5;28;01mas\u001b[39;00m e:\n\u001b[0;32m     67\u001b[0m     filtered_tb \u001b[38;5;241m=\u001b[39m _process_traceback_frames(e\u001b[38;5;241m.\u001b[39m__traceback__)\n",
            "File \u001b[1;32mc:\\Users\\neelr\\AppData\\Local\\Programs\\Python\\Python310\\lib\\site-packages\\keras\\src\\engine\\training.py:1807\u001b[0m, in \u001b[0;36mModel.fit\u001b[1;34m(self, x, y, batch_size, epochs, verbose, callbacks, validation_split, validation_data, shuffle, class_weight, sample_weight, initial_epoch, steps_per_epoch, validation_steps, validation_batch_size, validation_freq, max_queue_size, workers, use_multiprocessing)\u001b[0m\n\u001b[0;32m   1799\u001b[0m \u001b[38;5;28;01mwith\u001b[39;00m tf\u001b[38;5;241m.\u001b[39mprofiler\u001b[38;5;241m.\u001b[39mexperimental\u001b[38;5;241m.\u001b[39mTrace(\n\u001b[0;32m   1800\u001b[0m     \u001b[38;5;124m\"\u001b[39m\u001b[38;5;124mtrain\u001b[39m\u001b[38;5;124m\"\u001b[39m,\n\u001b[0;32m   1801\u001b[0m     epoch_num\u001b[38;5;241m=\u001b[39mepoch,\n\u001b[1;32m   (...)\u001b[0m\n\u001b[0;32m   1804\u001b[0m     _r\u001b[38;5;241m=\u001b[39m\u001b[38;5;241m1\u001b[39m,\n\u001b[0;32m   1805\u001b[0m ):\n\u001b[0;32m   1806\u001b[0m     callbacks\u001b[38;5;241m.\u001b[39mon_train_batch_begin(step)\n\u001b[1;32m-> 1807\u001b[0m     tmp_logs \u001b[38;5;241m=\u001b[39m \u001b[38;5;28;43mself\u001b[39;49m\u001b[38;5;241;43m.\u001b[39;49m\u001b[43mtrain_function\u001b[49m\u001b[43m(\u001b[49m\u001b[43miterator\u001b[49m\u001b[43m)\u001b[49m\n\u001b[0;32m   1808\u001b[0m     \u001b[38;5;28;01mif\u001b[39;00m data_handler\u001b[38;5;241m.\u001b[39mshould_sync:\n\u001b[0;32m   1809\u001b[0m         context\u001b[38;5;241m.\u001b[39masync_wait()\n",
            "File \u001b[1;32mc:\\Users\\neelr\\AppData\\Local\\Programs\\Python\\Python310\\lib\\site-packages\\tensorflow\\python\\util\\traceback_utils.py:150\u001b[0m, in \u001b[0;36mfilter_traceback.<locals>.error_handler\u001b[1;34m(*args, **kwargs)\u001b[0m\n\u001b[0;32m    148\u001b[0m filtered_tb \u001b[38;5;241m=\u001b[39m \u001b[38;5;28;01mNone\u001b[39;00m\n\u001b[0;32m    149\u001b[0m \u001b[38;5;28;01mtry\u001b[39;00m:\n\u001b[1;32m--> 150\u001b[0m   \u001b[38;5;28;01mreturn\u001b[39;00m fn(\u001b[38;5;241m*\u001b[39margs, \u001b[38;5;241m*\u001b[39m\u001b[38;5;241m*\u001b[39mkwargs)\n\u001b[0;32m    151\u001b[0m \u001b[38;5;28;01mexcept\u001b[39;00m \u001b[38;5;167;01mException\u001b[39;00m \u001b[38;5;28;01mas\u001b[39;00m e:\n\u001b[0;32m    152\u001b[0m   filtered_tb \u001b[38;5;241m=\u001b[39m _process_traceback_frames(e\u001b[38;5;241m.\u001b[39m__traceback__)\n",
            "File \u001b[1;32mc:\\Users\\neelr\\AppData\\Local\\Programs\\Python\\Python310\\lib\\site-packages\\tensorflow\\python\\eager\\polymorphic_function\\polymorphic_function.py:832\u001b[0m, in \u001b[0;36mFunction.__call__\u001b[1;34m(self, *args, **kwds)\u001b[0m\n\u001b[0;32m    829\u001b[0m compiler \u001b[38;5;241m=\u001b[39m \u001b[38;5;124m\"\u001b[39m\u001b[38;5;124mxla\u001b[39m\u001b[38;5;124m\"\u001b[39m \u001b[38;5;28;01mif\u001b[39;00m \u001b[38;5;28mself\u001b[39m\u001b[38;5;241m.\u001b[39m_jit_compile \u001b[38;5;28;01melse\u001b[39;00m \u001b[38;5;124m\"\u001b[39m\u001b[38;5;124mnonXla\u001b[39m\u001b[38;5;124m\"\u001b[39m\n\u001b[0;32m    831\u001b[0m \u001b[38;5;28;01mwith\u001b[39;00m OptionalXlaContext(\u001b[38;5;28mself\u001b[39m\u001b[38;5;241m.\u001b[39m_jit_compile):\n\u001b[1;32m--> 832\u001b[0m   result \u001b[38;5;241m=\u001b[39m \u001b[38;5;28mself\u001b[39m\u001b[38;5;241m.\u001b[39m_call(\u001b[38;5;241m*\u001b[39margs, \u001b[38;5;241m*\u001b[39m\u001b[38;5;241m*\u001b[39mkwds)\n\u001b[0;32m    834\u001b[0m new_tracing_count \u001b[38;5;241m=\u001b[39m \u001b[38;5;28mself\u001b[39m\u001b[38;5;241m.\u001b[39mexperimental_get_tracing_count()\n\u001b[0;32m    835\u001b[0m without_tracing \u001b[38;5;241m=\u001b[39m (tracing_count \u001b[38;5;241m==\u001b[39m new_tracing_count)\n",
            "File \u001b[1;32mc:\\Users\\neelr\\AppData\\Local\\Programs\\Python\\Python310\\lib\\site-packages\\tensorflow\\python\\eager\\polymorphic_function\\polymorphic_function.py:868\u001b[0m, in \u001b[0;36mFunction._call\u001b[1;34m(self, *args, **kwds)\u001b[0m\n\u001b[0;32m    865\u001b[0m   \u001b[38;5;28mself\u001b[39m\u001b[38;5;241m.\u001b[39m_lock\u001b[38;5;241m.\u001b[39mrelease()\n\u001b[0;32m    866\u001b[0m   \u001b[38;5;66;03m# In this case we have created variables on the first call, so we run the\u001b[39;00m\n\u001b[0;32m    867\u001b[0m   \u001b[38;5;66;03m# defunned version which is guaranteed to never create variables.\u001b[39;00m\n\u001b[1;32m--> 868\u001b[0m   \u001b[38;5;28;01mreturn\u001b[39;00m \u001b[43mtracing_compilation\u001b[49m\u001b[38;5;241;43m.\u001b[39;49m\u001b[43mcall_function\u001b[49m\u001b[43m(\u001b[49m\n\u001b[0;32m    869\u001b[0m \u001b[43m      \u001b[49m\u001b[43margs\u001b[49m\u001b[43m,\u001b[49m\u001b[43m \u001b[49m\u001b[43mkwds\u001b[49m\u001b[43m,\u001b[49m\u001b[43m \u001b[49m\u001b[38;5;28;43mself\u001b[39;49m\u001b[38;5;241;43m.\u001b[39;49m\u001b[43m_no_variable_creation_config\u001b[49m\n\u001b[0;32m    870\u001b[0m \u001b[43m  \u001b[49m\u001b[43m)\u001b[49m\n\u001b[0;32m    871\u001b[0m \u001b[38;5;28;01melif\u001b[39;00m \u001b[38;5;28mself\u001b[39m\u001b[38;5;241m.\u001b[39m_variable_creation_config \u001b[38;5;129;01mis\u001b[39;00m \u001b[38;5;129;01mnot\u001b[39;00m \u001b[38;5;28;01mNone\u001b[39;00m:\n\u001b[0;32m    872\u001b[0m   \u001b[38;5;66;03m# Release the lock early so that multiple threads can perform the call\u001b[39;00m\n\u001b[0;32m    873\u001b[0m   \u001b[38;5;66;03m# in parallel.\u001b[39;00m\n\u001b[0;32m    874\u001b[0m   \u001b[38;5;28mself\u001b[39m\u001b[38;5;241m.\u001b[39m_lock\u001b[38;5;241m.\u001b[39mrelease()\n",
            "File \u001b[1;32mc:\\Users\\neelr\\AppData\\Local\\Programs\\Python\\Python310\\lib\\site-packages\\tensorflow\\python\\eager\\polymorphic_function\\tracing_compilation.py:139\u001b[0m, in \u001b[0;36mcall_function\u001b[1;34m(args, kwargs, tracing_options)\u001b[0m\n\u001b[0;32m    137\u001b[0m bound_args \u001b[38;5;241m=\u001b[39m function\u001b[38;5;241m.\u001b[39mfunction_type\u001b[38;5;241m.\u001b[39mbind(\u001b[38;5;241m*\u001b[39margs, \u001b[38;5;241m*\u001b[39m\u001b[38;5;241m*\u001b[39mkwargs)\n\u001b[0;32m    138\u001b[0m flat_inputs \u001b[38;5;241m=\u001b[39m function\u001b[38;5;241m.\u001b[39mfunction_type\u001b[38;5;241m.\u001b[39munpack_inputs(bound_args)\n\u001b[1;32m--> 139\u001b[0m \u001b[38;5;28;01mreturn\u001b[39;00m \u001b[43mfunction\u001b[49m\u001b[38;5;241;43m.\u001b[39;49m\u001b[43m_call_flat\u001b[49m\u001b[43m(\u001b[49m\u001b[43m  \u001b[49m\u001b[38;5;66;43;03m# pylint: disable=protected-access\u001b[39;49;00m\n\u001b[0;32m    140\u001b[0m \u001b[43m    \u001b[49m\u001b[43mflat_inputs\u001b[49m\u001b[43m,\u001b[49m\u001b[43m \u001b[49m\u001b[43mcaptured_inputs\u001b[49m\u001b[38;5;241;43m=\u001b[39;49m\u001b[43mfunction\u001b[49m\u001b[38;5;241;43m.\u001b[39;49m\u001b[43mcaptured_inputs\u001b[49m\n\u001b[0;32m    141\u001b[0m \u001b[43m\u001b[49m\u001b[43m)\u001b[49m\n",
            "File \u001b[1;32mc:\\Users\\neelr\\AppData\\Local\\Programs\\Python\\Python310\\lib\\site-packages\\tensorflow\\python\\eager\\polymorphic_function\\concrete_function.py:1323\u001b[0m, in \u001b[0;36mConcreteFunction._call_flat\u001b[1;34m(self, tensor_inputs, captured_inputs)\u001b[0m\n\u001b[0;32m   1319\u001b[0m possible_gradient_type \u001b[38;5;241m=\u001b[39m gradients_util\u001b[38;5;241m.\u001b[39mPossibleTapeGradientTypes(args)\n\u001b[0;32m   1320\u001b[0m \u001b[38;5;28;01mif\u001b[39;00m (possible_gradient_type \u001b[38;5;241m==\u001b[39m gradients_util\u001b[38;5;241m.\u001b[39mPOSSIBLE_GRADIENT_TYPES_NONE\n\u001b[0;32m   1321\u001b[0m     \u001b[38;5;129;01mand\u001b[39;00m executing_eagerly):\n\u001b[0;32m   1322\u001b[0m   \u001b[38;5;66;03m# No tape is watching; skip to running the function.\u001b[39;00m\n\u001b[1;32m-> 1323\u001b[0m   \u001b[38;5;28;01mreturn\u001b[39;00m \u001b[38;5;28;43mself\u001b[39;49m\u001b[38;5;241;43m.\u001b[39;49m\u001b[43m_inference_function\u001b[49m\u001b[38;5;241;43m.\u001b[39;49m\u001b[43mcall_preflattened\u001b[49m\u001b[43m(\u001b[49m\u001b[43margs\u001b[49m\u001b[43m)\u001b[49m\n\u001b[0;32m   1324\u001b[0m forward_backward \u001b[38;5;241m=\u001b[39m \u001b[38;5;28mself\u001b[39m\u001b[38;5;241m.\u001b[39m_select_forward_and_backward_functions(\n\u001b[0;32m   1325\u001b[0m     args,\n\u001b[0;32m   1326\u001b[0m     possible_gradient_type,\n\u001b[0;32m   1327\u001b[0m     executing_eagerly)\n\u001b[0;32m   1328\u001b[0m forward_function, args_with_tangents \u001b[38;5;241m=\u001b[39m forward_backward\u001b[38;5;241m.\u001b[39mforward()\n",
            "File \u001b[1;32mc:\\Users\\neelr\\AppData\\Local\\Programs\\Python\\Python310\\lib\\site-packages\\tensorflow\\python\\eager\\polymorphic_function\\atomic_function.py:216\u001b[0m, in \u001b[0;36mAtomicFunction.call_preflattened\u001b[1;34m(self, args)\u001b[0m\n\u001b[0;32m    214\u001b[0m \u001b[38;5;28;01mdef\u001b[39;00m \u001b[38;5;21mcall_preflattened\u001b[39m(\u001b[38;5;28mself\u001b[39m, args: Sequence[core\u001b[38;5;241m.\u001b[39mTensor]) \u001b[38;5;241m-\u001b[39m\u001b[38;5;241m>\u001b[39m Any:\n\u001b[0;32m    215\u001b[0m \u001b[38;5;250m  \u001b[39m\u001b[38;5;124;03m\"\"\"Calls with flattened tensor inputs and returns the structured output.\"\"\"\u001b[39;00m\n\u001b[1;32m--> 216\u001b[0m   flat_outputs \u001b[38;5;241m=\u001b[39m \u001b[38;5;28;43mself\u001b[39;49m\u001b[38;5;241;43m.\u001b[39;49m\u001b[43mcall_flat\u001b[49m\u001b[43m(\u001b[49m\u001b[38;5;241;43m*\u001b[39;49m\u001b[43margs\u001b[49m\u001b[43m)\u001b[49m\n\u001b[0;32m    217\u001b[0m   \u001b[38;5;28;01mreturn\u001b[39;00m \u001b[38;5;28mself\u001b[39m\u001b[38;5;241m.\u001b[39mfunction_type\u001b[38;5;241m.\u001b[39mpack_output(flat_outputs)\n",
            "File \u001b[1;32mc:\\Users\\neelr\\AppData\\Local\\Programs\\Python\\Python310\\lib\\site-packages\\tensorflow\\python\\eager\\polymorphic_function\\atomic_function.py:251\u001b[0m, in \u001b[0;36mAtomicFunction.call_flat\u001b[1;34m(self, *args)\u001b[0m\n\u001b[0;32m    249\u001b[0m \u001b[38;5;28;01mwith\u001b[39;00m record\u001b[38;5;241m.\u001b[39mstop_recording():\n\u001b[0;32m    250\u001b[0m   \u001b[38;5;28;01mif\u001b[39;00m \u001b[38;5;28mself\u001b[39m\u001b[38;5;241m.\u001b[39m_bound_context\u001b[38;5;241m.\u001b[39mexecuting_eagerly():\n\u001b[1;32m--> 251\u001b[0m     outputs \u001b[38;5;241m=\u001b[39m \u001b[38;5;28;43mself\u001b[39;49m\u001b[38;5;241;43m.\u001b[39;49m\u001b[43m_bound_context\u001b[49m\u001b[38;5;241;43m.\u001b[39;49m\u001b[43mcall_function\u001b[49m\u001b[43m(\u001b[49m\n\u001b[0;32m    252\u001b[0m \u001b[43m        \u001b[49m\u001b[38;5;28;43mself\u001b[39;49m\u001b[38;5;241;43m.\u001b[39;49m\u001b[43mname\u001b[49m\u001b[43m,\u001b[49m\n\u001b[0;32m    253\u001b[0m \u001b[43m        \u001b[49m\u001b[38;5;28;43mlist\u001b[39;49m\u001b[43m(\u001b[49m\u001b[43margs\u001b[49m\u001b[43m)\u001b[49m\u001b[43m,\u001b[49m\n\u001b[0;32m    254\u001b[0m \u001b[43m        \u001b[49m\u001b[38;5;28;43mlen\u001b[39;49m\u001b[43m(\u001b[49m\u001b[38;5;28;43mself\u001b[39;49m\u001b[38;5;241;43m.\u001b[39;49m\u001b[43mfunction_type\u001b[49m\u001b[38;5;241;43m.\u001b[39;49m\u001b[43mflat_outputs\u001b[49m\u001b[43m)\u001b[49m\u001b[43m,\u001b[49m\n\u001b[0;32m    255\u001b[0m \u001b[43m    \u001b[49m\u001b[43m)\u001b[49m\n\u001b[0;32m    256\u001b[0m   \u001b[38;5;28;01melse\u001b[39;00m:\n\u001b[0;32m    257\u001b[0m     outputs \u001b[38;5;241m=\u001b[39m make_call_op_in_graph(\n\u001b[0;32m    258\u001b[0m         \u001b[38;5;28mself\u001b[39m,\n\u001b[0;32m    259\u001b[0m         \u001b[38;5;28mlist\u001b[39m(args),\n\u001b[0;32m    260\u001b[0m         \u001b[38;5;28mself\u001b[39m\u001b[38;5;241m.\u001b[39m_bound_context\u001b[38;5;241m.\u001b[39mfunction_call_options\u001b[38;5;241m.\u001b[39mas_attrs(),\n\u001b[0;32m    261\u001b[0m     )\n",
            "File \u001b[1;32mc:\\Users\\neelr\\AppData\\Local\\Programs\\Python\\Python310\\lib\\site-packages\\tensorflow\\python\\eager\\context.py:1486\u001b[0m, in \u001b[0;36mContext.call_function\u001b[1;34m(self, name, tensor_inputs, num_outputs)\u001b[0m\n\u001b[0;32m   1484\u001b[0m cancellation_context \u001b[38;5;241m=\u001b[39m cancellation\u001b[38;5;241m.\u001b[39mcontext()\n\u001b[0;32m   1485\u001b[0m \u001b[38;5;28;01mif\u001b[39;00m cancellation_context \u001b[38;5;129;01mis\u001b[39;00m \u001b[38;5;28;01mNone\u001b[39;00m:\n\u001b[1;32m-> 1486\u001b[0m   outputs \u001b[38;5;241m=\u001b[39m \u001b[43mexecute\u001b[49m\u001b[38;5;241;43m.\u001b[39;49m\u001b[43mexecute\u001b[49m\u001b[43m(\u001b[49m\n\u001b[0;32m   1487\u001b[0m \u001b[43m      \u001b[49m\u001b[43mname\u001b[49m\u001b[38;5;241;43m.\u001b[39;49m\u001b[43mdecode\u001b[49m\u001b[43m(\u001b[49m\u001b[38;5;124;43m\"\u001b[39;49m\u001b[38;5;124;43mutf-8\u001b[39;49m\u001b[38;5;124;43m\"\u001b[39;49m\u001b[43m)\u001b[49m\u001b[43m,\u001b[49m\n\u001b[0;32m   1488\u001b[0m \u001b[43m      \u001b[49m\u001b[43mnum_outputs\u001b[49m\u001b[38;5;241;43m=\u001b[39;49m\u001b[43mnum_outputs\u001b[49m\u001b[43m,\u001b[49m\n\u001b[0;32m   1489\u001b[0m \u001b[43m      \u001b[49m\u001b[43minputs\u001b[49m\u001b[38;5;241;43m=\u001b[39;49m\u001b[43mtensor_inputs\u001b[49m\u001b[43m,\u001b[49m\n\u001b[0;32m   1490\u001b[0m \u001b[43m      \u001b[49m\u001b[43mattrs\u001b[49m\u001b[38;5;241;43m=\u001b[39;49m\u001b[43mattrs\u001b[49m\u001b[43m,\u001b[49m\n\u001b[0;32m   1491\u001b[0m \u001b[43m      \u001b[49m\u001b[43mctx\u001b[49m\u001b[38;5;241;43m=\u001b[39;49m\u001b[38;5;28;43mself\u001b[39;49m\u001b[43m,\u001b[49m\n\u001b[0;32m   1492\u001b[0m \u001b[43m  \u001b[49m\u001b[43m)\u001b[49m\n\u001b[0;32m   1493\u001b[0m \u001b[38;5;28;01melse\u001b[39;00m:\n\u001b[0;32m   1494\u001b[0m   outputs \u001b[38;5;241m=\u001b[39m execute\u001b[38;5;241m.\u001b[39mexecute_with_cancellation(\n\u001b[0;32m   1495\u001b[0m       name\u001b[38;5;241m.\u001b[39mdecode(\u001b[38;5;124m\"\u001b[39m\u001b[38;5;124mutf-8\u001b[39m\u001b[38;5;124m\"\u001b[39m),\n\u001b[0;32m   1496\u001b[0m       num_outputs\u001b[38;5;241m=\u001b[39mnum_outputs,\n\u001b[1;32m   (...)\u001b[0m\n\u001b[0;32m   1500\u001b[0m       cancellation_manager\u001b[38;5;241m=\u001b[39mcancellation_context,\n\u001b[0;32m   1501\u001b[0m   )\n",
            "File \u001b[1;32mc:\\Users\\neelr\\AppData\\Local\\Programs\\Python\\Python310\\lib\\site-packages\\tensorflow\\python\\eager\\execute.py:53\u001b[0m, in \u001b[0;36mquick_execute\u001b[1;34m(op_name, num_outputs, inputs, attrs, ctx, name)\u001b[0m\n\u001b[0;32m     51\u001b[0m \u001b[38;5;28;01mtry\u001b[39;00m:\n\u001b[0;32m     52\u001b[0m   ctx\u001b[38;5;241m.\u001b[39mensure_initialized()\n\u001b[1;32m---> 53\u001b[0m   tensors \u001b[38;5;241m=\u001b[39m \u001b[43mpywrap_tfe\u001b[49m\u001b[38;5;241;43m.\u001b[39;49m\u001b[43mTFE_Py_Execute\u001b[49m\u001b[43m(\u001b[49m\u001b[43mctx\u001b[49m\u001b[38;5;241;43m.\u001b[39;49m\u001b[43m_handle\u001b[49m\u001b[43m,\u001b[49m\u001b[43m \u001b[49m\u001b[43mdevice_name\u001b[49m\u001b[43m,\u001b[49m\u001b[43m \u001b[49m\u001b[43mop_name\u001b[49m\u001b[43m,\u001b[49m\n\u001b[0;32m     54\u001b[0m \u001b[43m                                      \u001b[49m\u001b[43minputs\u001b[49m\u001b[43m,\u001b[49m\u001b[43m \u001b[49m\u001b[43mattrs\u001b[49m\u001b[43m,\u001b[49m\u001b[43m \u001b[49m\u001b[43mnum_outputs\u001b[49m\u001b[43m)\u001b[49m\n\u001b[0;32m     55\u001b[0m \u001b[38;5;28;01mexcept\u001b[39;00m core\u001b[38;5;241m.\u001b[39m_NotOkStatusException \u001b[38;5;28;01mas\u001b[39;00m e:\n\u001b[0;32m     56\u001b[0m   \u001b[38;5;28;01mif\u001b[39;00m name \u001b[38;5;129;01mis\u001b[39;00m \u001b[38;5;129;01mnot\u001b[39;00m \u001b[38;5;28;01mNone\u001b[39;00m:\n",
            "\u001b[1;31mKeyboardInterrupt\u001b[0m: "
          ]
        }
      ],
      "source": [
        "\n",
        "# Train CNN model\n",
        "# model.fit(X, encoded_labels, epochs=200)\n",
        "# Train the model\n",
        "history = model.fit(X_train, y_train, epochs=30, validation_data=(X_val, y_val))\n",
        "\n",
        "# Evaluate the model on the test set\n",
        "test_loss, test_accuracy = model.evaluate(X_test, y_test)\n",
        "\n",
        "# Print test accuracy\n",
        "print(\"Test Accuracy:\", test_accuracy)\n"
      ]
    },
    {
      "cell_type": "code",
      "execution_count": null,
      "metadata": {
        "id": "NARzL6XpE2hA",
        "outputId": "8d75f049-69d1-44e6-c3dc-ad51ae18c7ef"
      },
      "outputs": [
        {
          "name": "stderr",
          "output_type": "stream",
          "text": [
            "c:\\Users\\neelr\\AppData\\Local\\Programs\\Python\\Python310\\lib\\site-packages\\sklearn\\preprocessing\\_label.py:114: DataConversionWarning: A column-vector y was passed when a 1d array was expected. Please change the shape of y to (n_samples, ), for example using ravel().\n",
            "  y = column_or_1d(y, warn=True)\n"
          ]
        }
      ],
      "source": [
        "X_200 = pd.read_csv(r'E:\\4th sem\\IOBS-2\\project\\Non Coding RNA classification\\Cleaned_data\\100-200_features.csv')\n",
        "y_200 = pd.read_csv(r\"E:\\4th sem\\IOBS-2\\project\\Non Coding RNA classification\\Cleaned_data\\100-200_class.csv\")\n",
        "\n",
        "from sklearn.preprocessing import LabelEncoder\n",
        "\n",
        "# Initialize LabelEncoder\n",
        "label_encoder = LabelEncoder()\n",
        "\n",
        "# Fit label encoder and transform labels\n",
        "encoded_labels_200 = label_encoder.fit_transform(y_200)"
      ]
    },
    {
      "cell_type": "code",
      "execution_count": null,
      "metadata": {
        "id": "n5wL3SWGE2hB"
      },
      "outputs": [],
      "source": [
        "encoded_labels_200"
      ]
    },
    {
      "cell_type": "code",
      "execution_count": null,
      "metadata": {
        "id": "V5EkSlXXE2hB",
        "outputId": "3b4c06c7-9229-4f9f-c474-60bdcf0f0c05"
      },
      "outputs": [
        {
          "name": "stdout",
          "output_type": "stream",
          "text": [
            "Epoch 1/30\n",
            "94/94 [==============================] - 2s 7ms/step - loss: 2.0225 - accuracy: 0.3435\n",
            "Epoch 2/30\n",
            "94/94 [==============================] - 1s 7ms/step - loss: 1.5691 - accuracy: 0.4851\n",
            "Epoch 3/30\n",
            "94/94 [==============================] - 1s 6ms/step - loss: 1.3541 - accuracy: 0.5733\n",
            "Epoch 4/30\n",
            "94/94 [==============================] - 1s 6ms/step - loss: 1.1960 - accuracy: 0.6215\n",
            "Epoch 5/30\n",
            "94/94 [==============================] - 1s 6ms/step - loss: 1.0711 - accuracy: 0.6579\n",
            "Epoch 6/30\n",
            "94/94 [==============================] - 1s 6ms/step - loss: 0.9670 - accuracy: 0.6943\n",
            "Epoch 7/30\n",
            "94/94 [==============================] - 1s 6ms/step - loss: 0.8875 - accuracy: 0.7207\n",
            "Epoch 8/30\n",
            "94/94 [==============================] - 1s 6ms/step - loss: 0.8085 - accuracy: 0.7421\n",
            "Epoch 9/30\n",
            "94/94 [==============================] - 1s 6ms/step - loss: 0.7309 - accuracy: 0.7655\n",
            "Epoch 10/30\n",
            "94/94 [==============================] - 1s 6ms/step - loss: 0.6782 - accuracy: 0.7868\n",
            "Epoch 11/30\n",
            "94/94 [==============================] - 1s 6ms/step - loss: 0.6221 - accuracy: 0.8032\n",
            "Epoch 12/30\n",
            "94/94 [==============================] - 1s 7ms/step - loss: 0.5579 - accuracy: 0.8233\n",
            "Epoch 13/30\n",
            "94/94 [==============================] - 1s 6ms/step - loss: 0.5132 - accuracy: 0.8363\n",
            "Epoch 14/30\n",
            "94/94 [==============================] - 1s 6ms/step - loss: 0.4431 - accuracy: 0.8577\n",
            "Epoch 15/30\n",
            "94/94 [==============================] - 1s 6ms/step - loss: 0.4147 - accuracy: 0.8674\n",
            "Epoch 16/30\n",
            "94/94 [==============================] - 1s 6ms/step - loss: 0.3572 - accuracy: 0.8911\n",
            "Epoch 17/30\n",
            "94/94 [==============================] - 1s 6ms/step - loss: 0.3246 - accuracy: 0.9048\n",
            "Epoch 18/30\n",
            "94/94 [==============================] - 1s 7ms/step - loss: 0.2845 - accuracy: 0.9131\n",
            "Epoch 19/30\n",
            "94/94 [==============================] - 1s 6ms/step - loss: 0.2488 - accuracy: 0.9282\n",
            "Epoch 20/30\n",
            "94/94 [==============================] - 1s 6ms/step - loss: 0.2141 - accuracy: 0.9489\n",
            "Epoch 21/30\n",
            "94/94 [==============================] - 1s 6ms/step - loss: 0.1947 - accuracy: 0.9429\n",
            "Epoch 22/30\n",
            "94/94 [==============================] - 1s 6ms/step - loss: 0.1604 - accuracy: 0.9599\n",
            "Epoch 23/30\n",
            "94/94 [==============================] - 1s 6ms/step - loss: 0.1346 - accuracy: 0.9676\n",
            "Epoch 24/30\n",
            "94/94 [==============================] - 1s 6ms/step - loss: 0.1186 - accuracy: 0.9746\n",
            "Epoch 25/30\n",
            "94/94 [==============================] - 1s 7ms/step - loss: 0.0979 - accuracy: 0.9826\n",
            "Epoch 26/30\n",
            "94/94 [==============================] - 1s 6ms/step - loss: 0.0788 - accuracy: 0.9883\n",
            "Epoch 27/30\n",
            "94/94 [==============================] - 1s 6ms/step - loss: 0.0653 - accuracy: 0.9930\n",
            "Epoch 28/30\n",
            "94/94 [==============================] - 1s 6ms/step - loss: 0.0441 - accuracy: 0.9973\n",
            "Epoch 29/30\n",
            "94/94 [==============================] - 1s 6ms/step - loss: 0.0414 - accuracy: 0.9983\n",
            "Epoch 30/30\n",
            "94/94 [==============================] - 1s 6ms/step - loss: 0.0346 - accuracy: 0.9990\n"
          ]
        },
        {
          "data": {
            "text/plain": [
              "<keras.src.callbacks.History at 0x1a2ead03430>"
            ]
          },
          "execution_count": 49,
          "metadata": {},
          "output_type": "execute_result"
        }
      ],
      "source": [
        "\n",
        "# Now, you want to train the model for a new input length (200) without changing the architecture\n",
        "# Assuming you have new data X_200 and encoded_labels_200 for the new input length\n",
        "\n",
        "# Create a new CNN model with the same architecture as the previous model\n",
        "# No need to compile the model as we will be loading the weights\n",
        "model = create_cnn_model((200, 1), 13)\n",
        "\n",
        "# Load weights from the previously trained model\n",
        "# new_model.set_weights(model.get_weights())\n",
        "\n",
        "# Train the new model with the new data for 200 input length\n",
        "model.fit(X_200, encoded_labels_200, epochs=30)\n",
        "\n"
      ]
    }
  ],
  "metadata": {
    "accelerator": "GPU",
    "colab": {
      "gpuType": "T4",
      "provenance": []
    },
    "kernelspec": {
      "display_name": "Python 3",
      "name": "python3"
    },
    "language_info": {
      "codemirror_mode": {
        "name": "ipython",
        "version": 3
      },
      "file_extension": ".py",
      "mimetype": "text/x-python",
      "name": "python",
      "nbconvert_exporter": "python",
      "pygments_lexer": "ipython3",
      "version": "3.10.0rc1"
    }
  },
  "nbformat": 4,
  "nbformat_minor": 0
}
